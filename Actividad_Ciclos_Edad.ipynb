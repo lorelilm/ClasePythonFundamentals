{
 "cells": [
  {
   "cell_type": "markdown",
   "id": "41d3aaea",
   "metadata": {},
   "source": [
    "## Definir si alguien es mayor de edad"
   ]
  },
  {
   "cell_type": "code",
   "execution_count": 1,
   "id": "8a98bc1d",
   "metadata": {},
   "outputs": [
    {
     "name": "stdout",
     "output_type": "stream",
     "text": [
      "Por favor, escribe tu edad en numero entero26\n",
      "Eres mayor de edad\n"
     ]
    }
   ],
   "source": [
    "edad = int(input(\"Por favor, escribe tu edad en numero entero\"))\n",
    "if edad>=18:\n",
    "    print(\"Eres mayor de edad\")\n",
    "elif edad<18:\n",
    "    print(\"Eres menor de edad\")"
   ]
  },
  {
   "cell_type": "code",
   "execution_count": null,
   "id": "3760af5f",
   "metadata": {},
   "outputs": [],
   "source": []
  }
 ],
 "metadata": {
  "kernelspec": {
   "display_name": "Python 3 (ipykernel)",
   "language": "python",
   "name": "python3"
  },
  "language_info": {
   "codemirror_mode": {
    "name": "ipython",
    "version": 3
   },
   "file_extension": ".py",
   "mimetype": "text/x-python",
   "name": "python",
   "nbconvert_exporter": "python",
   "pygments_lexer": "ipython3",
   "version": "3.9.12"
  }
 },
 "nbformat": 4,
 "nbformat_minor": 5
}
