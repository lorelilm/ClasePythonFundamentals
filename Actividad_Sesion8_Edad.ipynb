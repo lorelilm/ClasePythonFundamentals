{
 "cells": [
  {
   "cell_type": "code",
   "execution_count": null,
   "id": "2cd8df59",
   "metadata": {},
   "outputs": [],
   "source": [
    "#El doble de mi edad tiene 24 años, ¿cuantos años tengo?"
   ]
  },
  {
   "cell_type": "code",
   "execution_count": 1,
   "id": "f36b033e",
   "metadata": {},
   "outputs": [
    {
     "data": {
      "text/plain": [
       "12.0"
      ]
     },
     "execution_count": 1,
     "metadata": {},
     "output_type": "execute_result"
    }
   ],
   "source": [
    "edad=24/2\n",
    "edad"
   ]
  },
  {
   "cell_type": "code",
   "execution_count": null,
   "id": "f91eee33",
   "metadata": {},
   "outputs": [],
   "source": [
    "#A un tercio de la edad de mi hermana la disminuyo en 15 años. Tengo 6 años ¿Que edad tiene?"
   ]
  },
  {
   "cell_type": "code",
   "execution_count": 27,
   "id": "affe5ce6",
   "metadata": {},
   "outputs": [],
   "source": [
    "from sympy import symbols, Eq, solve"
   ]
  },
  {
   "cell_type": "code",
   "execution_count": 30,
   "id": "c037e12b",
   "metadata": {},
   "outputs": [],
   "source": [
    "x = symbols('x')"
   ]
  },
  {
   "cell_type": "code",
   "execution_count": 37,
   "id": "d814baef",
   "metadata": {},
   "outputs": [],
   "source": [
    "eq1 = Eq ((x*1/3)-15, 6)"
   ]
  },
  {
   "cell_type": "code",
   "execution_count": 38,
   "id": "939d2fdb",
   "metadata": {},
   "outputs": [
    {
     "data": {
      "text/latex": [
       "$\\displaystyle \\frac{x}{3} - 15 = 6$"
      ],
      "text/plain": [
       "Eq(x/3 - 15, 6)"
      ]
     },
     "execution_count": 38,
     "metadata": {},
     "output_type": "execute_result"
    }
   ],
   "source": [
    "eq1"
   ]
  },
  {
   "cell_type": "code",
   "execution_count": 54,
   "id": "ef3a1291",
   "metadata": {},
   "outputs": [
    {
     "data": {
      "text/plain": [
       "[63]"
      ]
     },
     "execution_count": 54,
     "metadata": {},
     "output_type": "execute_result"
    }
   ],
   "source": [
    "edad_hermana = solve(eq1)\n",
    "edad_hermana"
   ]
  },
  {
   "cell_type": "code",
   "execution_count": 40,
   "id": "ccaa1c60",
   "metadata": {},
   "outputs": [],
   "source": [
    "#Edad de mi hermana es 63"
   ]
  },
  {
   "cell_type": "code",
   "execution_count": 43,
   "id": "b4305d5a",
   "metadata": {},
   "outputs": [],
   "source": [
    "edad_yo=6"
   ]
  },
  {
   "cell_type": "code",
   "execution_count": 47,
   "id": "cc5886b1",
   "metadata": {},
   "outputs": [
    {
     "data": {
      "text/plain": [
       "int"
      ]
     },
     "execution_count": 47,
     "metadata": {},
     "output_type": "execute_result"
    }
   ],
   "source": [
    "type(edad_yo)"
   ]
  },
  {
   "cell_type": "code",
   "execution_count": 48,
   "id": "88c2ef86",
   "metadata": {},
   "outputs": [
    {
     "data": {
      "text/plain": [
       "list"
      ]
     },
     "execution_count": 48,
     "metadata": {},
     "output_type": "execute_result"
    }
   ],
   "source": [
    "type(edad_hermana)"
   ]
  },
  {
   "cell_type": "code",
   "execution_count": 56,
   "id": "ea24d1f0",
   "metadata": {},
   "outputs": [
    {
     "name": "stdout",
     "output_type": "stream",
     "text": [
      "63\n",
      "<class 'int'>\n"
     ]
    }
   ],
   "source": [
    "s = [str(integer) for integer in edad_hermana]\n",
    "a_string = \"\".join(s)\n",
    "\n",
    "edad_hermana2 = int(a_string)\n",
    "\n",
    "print(edad_hermana2)\n",
    "print(type(edad_hermana2))"
   ]
  },
  {
   "cell_type": "code",
   "execution_count": 57,
   "id": "ee0a00f0",
   "metadata": {},
   "outputs": [
    {
     "data": {
      "text/plain": [
       "False"
      ]
     },
     "execution_count": 57,
     "metadata": {},
     "output_type": "execute_result"
    }
   ],
   "source": [
    "edad_yo>edad_hermana2 #Mi hermana es menor?"
   ]
  },
  {
   "cell_type": "code",
   "execution_count": 59,
   "id": "228a9eb8",
   "metadata": {},
   "outputs": [
    {
     "data": {
      "text/plain": [
       "True"
      ]
     },
     "execution_count": 59,
     "metadata": {},
     "output_type": "execute_result"
    }
   ],
   "source": [
    "edad_hermana2>edad_yo #Mi hermana es mayor?"
   ]
  }
 ],
 "metadata": {
  "kernelspec": {
   "display_name": "Python 3 (ipykernel)",
   "language": "python",
   "name": "python3"
  },
  "language_info": {
   "codemirror_mode": {
    "name": "ipython",
    "version": 3
   },
   "file_extension": ".py",
   "mimetype": "text/x-python",
   "name": "python",
   "nbconvert_exporter": "python",
   "pygments_lexer": "ipython3",
   "version": "3.9.12"
  }
 },
 "nbformat": 4,
 "nbformat_minor": 5
}
