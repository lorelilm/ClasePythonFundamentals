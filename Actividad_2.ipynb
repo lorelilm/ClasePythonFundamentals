{
 "cells": [
  {
   "cell_type": "code",
   "execution_count": 2,
   "id": "492e37a4",
   "metadata": {},
   "outputs": [],
   "source": [
    "tupla1=(\"Sprite\",\"4CU\",8,True,355)"
   ]
  },
  {
   "cell_type": "code",
   "execution_count": 3,
   "id": "dd28b0e7",
   "metadata": {},
   "outputs": [
    {
     "data": {
      "text/plain": [
       "('Sprite', '4CU', 8, True, 355)"
      ]
     },
     "execution_count": 3,
     "metadata": {},
     "output_type": "execute_result"
    }
   ],
   "source": [
    "tupla1"
   ]
  },
  {
   "cell_type": "code",
   "execution_count": 4,
   "id": "e37fb9b9",
   "metadata": {},
   "outputs": [],
   "source": [
    "lista1=(tupla1)"
   ]
  },
  {
   "cell_type": "code",
   "execution_count": 5,
   "id": "fc9fc749",
   "metadata": {},
   "outputs": [
    {
     "data": {
      "text/plain": [
       "('Sprite', '4CU', 8, True, 355)"
      ]
     },
     "execution_count": 5,
     "metadata": {},
     "output_type": "execute_result"
    }
   ],
   "source": [
    "lista1"
   ]
  },
  {
   "cell_type": "code",
   "execution_count": 6,
   "id": "6385e7c5",
   "metadata": {},
   "outputs": [],
   "source": [
    "lista2=(1,2,3,4,5)"
   ]
  },
  {
   "cell_type": "code",
   "execution_count": 7,
   "id": "0e73063d",
   "metadata": {},
   "outputs": [
    {
     "data": {
      "text/plain": [
       "(1, 2, 3, 4, 5)"
      ]
     },
     "execution_count": 7,
     "metadata": {},
     "output_type": "execute_result"
    }
   ],
   "source": [
    "lista2"
   ]
  },
  {
   "cell_type": "code",
   "execution_count": 8,
   "id": "001ba8e7",
   "metadata": {},
   "outputs": [],
   "source": [
    "keys=(lista2)"
   ]
  },
  {
   "cell_type": "code",
   "execution_count": 9,
   "id": "5a0e9ecf",
   "metadata": {},
   "outputs": [
    {
     "data": {
      "text/plain": [
       "(1, 2, 3, 4, 5)"
      ]
     },
     "execution_count": 9,
     "metadata": {},
     "output_type": "execute_result"
    }
   ],
   "source": [
    "keys"
   ]
  },
  {
   "cell_type": "code",
   "execution_count": 16,
   "id": "cb3e1cd5",
   "metadata": {},
   "outputs": [],
   "source": [
    "diccionario1 = dict(zip(lista2, lista1))"
   ]
  },
  {
   "cell_type": "code",
   "execution_count": 17,
   "id": "91c0a58c",
   "metadata": {},
   "outputs": [
    {
     "data": {
      "text/plain": [
       "{1: 'Sprite', 2: '4CU', 3: 8, 4: True, 5: 355}"
      ]
     },
     "execution_count": 17,
     "metadata": {},
     "output_type": "execute_result"
    }
   ],
   "source": [
    "diccionario1"
   ]
  },
  {
   "cell_type": "code",
   "execution_count": null,
   "id": "6cf03c36",
   "metadata": {},
   "outputs": [],
   "source": []
  }
 ],
 "metadata": {
  "kernelspec": {
   "display_name": "Python 3",
   "language": "python",
   "name": "python3"
  },
  "language_info": {
   "codemirror_mode": {
    "name": "ipython",
    "version": 3
   },
   "file_extension": ".py",
   "mimetype": "text/x-python",
   "name": "python",
   "nbconvert_exporter": "python",
   "pygments_lexer": "ipython3",
   "version": "3.6.13"
  }
 },
 "nbformat": 4,
 "nbformat_minor": 5
}
