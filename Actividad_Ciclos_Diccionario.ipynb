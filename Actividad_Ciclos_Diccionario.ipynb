{
 "cells": [
  {
   "cell_type": "code",
   "execution_count": 9,
   "id": "aaa71909",
   "metadata": {},
   "outputs": [
    {
     "name": "stdout",
     "output_type": "stream",
     "text": [
      "Ana 21\n",
      "Carlos 30\n",
      "Stef 29\n",
      "Esteban 26\n",
      "Ivan 25\n",
      "El numero mayor es  30 el menor es  21\n"
     ]
    }
   ],
   "source": [
    "dic={\"Ana\":21, \"Carlos\":30, \"Stef\":29, \"Esteban\":26, \"Ivan\":25}\n",
    "for s,l in diccionario.items():\n",
    "    print(s,l)\n",
    "max_value = max(dic.values())\n",
    "min_value = min(dic.values())\n",
    "print(\"El numero mayor es \", max_value, \"el menor es \", min_value)"
   ]
  },
  {
   "cell_type": "code",
   "execution_count": null,
   "id": "3928d508",
   "metadata": {},
   "outputs": [],
   "source": []
  }
 ],
 "metadata": {
  "kernelspec": {
   "display_name": "Python 3 (ipykernel)",
   "language": "python",
   "name": "python3"
  },
  "language_info": {
   "codemirror_mode": {
    "name": "ipython",
    "version": 3
   },
   "file_extension": ".py",
   "mimetype": "text/x-python",
   "name": "python",
   "nbconvert_exporter": "python",
   "pygments_lexer": "ipython3",
   "version": "3.9.12"
  }
 },
 "nbformat": 4,
 "nbformat_minor": 5
}
