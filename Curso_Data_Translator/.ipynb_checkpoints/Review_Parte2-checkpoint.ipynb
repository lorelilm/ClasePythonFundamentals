{
 "cells": [
  {
   "cell_type": "code",
   "execution_count": 9,
   "id": "99e3dcba",
   "metadata": {},
   "outputs": [],
   "source": [
    "import numpy as np"
   ]
  },
  {
   "cell_type": "code",
   "execution_count": 14,
   "id": "bc0af709",
   "metadata": {},
   "outputs": [
    {
     "data": {
      "text/plain": [
       "array([[0.78275517, 0.55179   , 0.74916468, 0.61487486],\n",
       "       [0.12399364, 0.90977318, 0.62296445, 0.75550717],\n",
       "       [0.00260311, 0.73983933, 0.21444748, 0.73510726]])"
      ]
     },
     "execution_count": 14,
     "metadata": {},
     "output_type": "execute_result"
    }
   ],
   "source": [
    "matriz1 = np.random.random((3,4))\n",
    "matriz1"
   ]
  },
  {
   "cell_type": "code",
   "execution_count": 15,
   "id": "7a2bb301",
   "metadata": {},
   "outputs": [
    {
     "data": {
      "text/plain": [
       "array([[0.78275517, 0.12399364, 0.00260311],\n",
       "       [0.55179   , 0.90977318, 0.73983933],\n",
       "       [0.74916468, 0.62296445, 0.21444748],\n",
       "       [0.61487486, 0.75550717, 0.73510726]])"
      ]
     },
     "execution_count": 15,
     "metadata": {},
     "output_type": "execute_result"
    }
   ],
   "source": [
    "matrizT = np.transpose(matriz1)\n",
    "matrizT"
   ]
  },
  {
   "cell_type": "code",
   "execution_count": 19,
   "id": "104e6b34",
   "metadata": {},
   "outputs": [
    {
     "name": "stdout",
     "output_type": "stream",
     "text": [
      "[1.3345451682421794, 1.0337668237878044, 0.7424424326434212]\n"
     ]
    }
   ],
   "source": [
    "matrizT.reshape(2,6)\n",
    "print([x[0] + x[1] for x in zip(matrizT[0], matrizT[1])])"
   ]
  },
  {
   "cell_type": "code",
   "execution_count": 30,
   "id": "00a9d514",
   "metadata": {},
   "outputs": [
    {
     "name": "stdout",
     "output_type": "stream",
     "text": [
      "[]\n"
     ]
    }
   ],
   "source": [
    "a = matrizT\n",
    "print(a[:, np.all(a < 0.5, axis = 0)])"
   ]
  },
  {
   "cell_type": "code",
   "execution_count": 29,
   "id": "ecdaec4c",
   "metadata": {},
   "outputs": [
    {
     "data": {
      "text/plain": [
       "array([3.        , 3.10526316, 3.21052632, 3.31578947, 3.42105263,\n",
       "       3.52631579, 3.63157895, 3.73684211, 3.84210526, 3.94736842,\n",
       "       4.05263158, 4.15789474, 4.26315789, 4.36842105, 4.47368421,\n",
       "       4.57894737, 4.68421053, 4.78947368, 4.89473684, 5.        ])"
      ]
     },
     "execution_count": 29,
     "metadata": {},
     "output_type": "execute_result"
    }
   ],
   "source": [
    "matriz2 = np.linspace(3,5,20)\n",
    "matriz2"
   ]
  },
  {
   "cell_type": "code",
   "execution_count": 32,
   "id": "13566910",
   "metadata": {},
   "outputs": [
    {
     "data": {
      "text/plain": [
       "array([2.69858471, 2.41223843, 1.69199717])"
      ]
     },
     "execution_count": 32,
     "metadata": {},
     "output_type": "execute_result"
    }
   ],
   "source": [
    "m2 = matriz1.sum(axis=1)\n",
    "m2"
   ]
  },
  {
   "cell_type": "markdown",
   "id": "778f2a87",
   "metadata": {},
   "source": [
    "## Ejemplo 2"
   ]
  },
  {
   "cell_type": "code",
   "execution_count": 33,
   "id": "d6623ed0",
   "metadata": {},
   "outputs": [],
   "source": [
    "lista = [1,2,3,4,4,5,6,7,8,9,10]"
   ]
  },
  {
   "cell_type": "code",
   "execution_count": null,
   "id": "a2b143a5",
   "metadata": {},
   "outputs": [],
   "source": []
  }
 ],
 "metadata": {
  "kernelspec": {
   "display_name": "Python 3 (ipykernel)",
   "language": "python",
   "name": "python3"
  },
  "language_info": {
   "codemirror_mode": {
    "name": "ipython",
    "version": 3
   },
   "file_extension": ".py",
   "mimetype": "text/x-python",
   "name": "python",
   "nbconvert_exporter": "python",
   "pygments_lexer": "ipython3",
   "version": "3.9.12"
  }
 },
 "nbformat": 4,
 "nbformat_minor": 5
}
