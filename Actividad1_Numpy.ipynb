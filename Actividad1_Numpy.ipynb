{
 "cells": [
  {
   "cell_type": "code",
   "execution_count": 2,
   "id": "d92a2c46",
   "metadata": {},
   "outputs": [],
   "source": [
    "import numpy as np"
   ]
  },
  {
   "cell_type": "code",
   "execution_count": 11,
   "id": "2e3649c5",
   "metadata": {},
   "outputs": [],
   "source": [
    "matriz_edad= np.arange(3,27)"
   ]
  },
  {
   "cell_type": "code",
   "execution_count": 12,
   "id": "a01f1972",
   "metadata": {},
   "outputs": [
    {
     "data": {
      "text/plain": [
       "array([ 3,  4,  5,  6,  7,  8,  9, 10, 11, 12, 13, 14, 15, 16, 17, 18, 19,\n",
       "       20, 21, 22, 23, 24, 25, 26])"
      ]
     },
     "execution_count": 12,
     "metadata": {},
     "output_type": "execute_result"
    }
   ],
   "source": [
    "matriz_edad"
   ]
  },
  {
   "cell_type": "code",
   "execution_count": 43,
   "id": "93d0618d",
   "metadata": {},
   "outputs": [],
   "source": [
    "Lista1 = [*range(0,5,1)]"
   ]
  },
  {
   "cell_type": "code",
   "execution_count": 44,
   "id": "b1faff71",
   "metadata": {},
   "outputs": [
    {
     "data": {
      "text/plain": [
       "[0, 1, 2, 3, 4]"
      ]
     },
     "execution_count": 44,
     "metadata": {},
     "output_type": "execute_result"
    }
   ],
   "source": [
    "Lista1"
   ]
  },
  {
   "cell_type": "code",
   "execution_count": 46,
   "id": "ceca07b3",
   "metadata": {},
   "outputs": [],
   "source": [
    "listas = Lista1+Lista1"
   ]
  },
  {
   "cell_type": "code",
   "execution_count": 48,
   "id": "962f493f",
   "metadata": {},
   "outputs": [],
   "source": [
    "matriz_2 = np.array(listas)"
   ]
  },
  {
   "cell_type": "code",
   "execution_count": 49,
   "id": "ab7312b9",
   "metadata": {},
   "outputs": [
    {
     "data": {
      "text/plain": [
       "array([0, 1, 2, 3, 4, 0, 1, 2, 3, 4])"
      ]
     },
     "execution_count": 49,
     "metadata": {},
     "output_type": "execute_result"
    }
   ],
   "source": [
    "matriz_2"
   ]
  },
  {
   "cell_type": "code",
   "execution_count": 50,
   "id": "3559d5b3",
   "metadata": {},
   "outputs": [],
   "source": [
    "matriz_ascendente = np.sort(matriz_2)"
   ]
  },
  {
   "cell_type": "code",
   "execution_count": 51,
   "id": "b8eaef52",
   "metadata": {},
   "outputs": [
    {
     "data": {
      "text/plain": [
       "array([0, 0, 1, 1, 2, 2, 3, 3, 4, 4])"
      ]
     },
     "execution_count": 51,
     "metadata": {},
     "output_type": "execute_result"
    }
   ],
   "source": [
    "matriz_ascendente"
   ]
  },
  {
   "cell_type": "code",
   "execution_count": null,
   "id": "9e2c33df",
   "metadata": {},
   "outputs": [],
   "source": []
  }
 ],
 "metadata": {
  "kernelspec": {
   "display_name": "Python 3 (ipykernel)",
   "language": "python",
   "name": "python3"
  },
  "language_info": {
   "codemirror_mode": {
    "name": "ipython",
    "version": 3
   },
   "file_extension": ".py",
   "mimetype": "text/x-python",
   "name": "python",
   "nbconvert_exporter": "python",
   "pygments_lexer": "ipython3",
   "version": "3.9.12"
  }
 },
 "nbformat": 4,
 "nbformat_minor": 5
}
